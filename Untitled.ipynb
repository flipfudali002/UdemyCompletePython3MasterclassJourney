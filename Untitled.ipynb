{
 "cells": [
  {
   "cell_type": "markdown",
   "metadata": {},
   "source": [
    "# Section 8: The hacking incident "
   ]
  },
  {
   "cell_type": "markdown",
   "metadata": {},
   "source": [
    "We need to create a method of sending messages that go undetected, the messages have to be send from our local server to the main server. \n",
    "Unfortunately, the malware is scanning for possible messages that contain english words. Its possible to fool the malware by scam the gibberish english "
   ]
  },
  {
   "cell_type": "markdown",
   "metadata": {},
   "source": [
    "One way is using the Caesar cipher which attempt to hide a message from someone viewing it. \n",
    "First, a sender writes out their message plainly: \n",
    "THE QUICK BROWN FOX "
   ]
  },
  {
   "cell_type": "code",
   "execution_count": null,
   "metadata": {},
   "outputs": [],
   "source": []
  }
 ],
 "metadata": {
  "kernelspec": {
   "display_name": "Python 3",
   "language": "python",
   "name": "python3"
  },
  "language_info": {
   "codemirror_mode": {
    "name": "ipython",
    "version": 3
   },
   "file_extension": ".py",
   "mimetype": "text/x-python",
   "name": "python",
   "nbconvert_exporter": "python",
   "pygments_lexer": "ipython3",
   "version": "3.7.3"
  }
 },
 "nbformat": 4,
 "nbformat_minor": 2
}
